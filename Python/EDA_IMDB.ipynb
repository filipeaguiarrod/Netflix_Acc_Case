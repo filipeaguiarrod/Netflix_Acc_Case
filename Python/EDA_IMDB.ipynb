{
 "cells": [
  {
   "cell_type": "code",
   "execution_count": 1,
   "metadata": {},
   "outputs": [],
   "source": [
    "import numpy as np\n",
    "import pandas as pd\n",
    "import seaborn as sns\n",
    "import missingno as msno\n",
    "import matplotlib.pyplot as plt\n",
    "import datetime as dt\n",
    "from PIL import Image\n",
    "from wordcloud import WordCloud, STOPWORDS, ImageColorGenerator"
   ]
  },
  {
   "cell_type": "markdown",
   "metadata": {},
   "source": [
    "#### Importando dados de Top 250, TV-Shows e Movies:\n",
    "\n",
    "Fontes:\n",
    "    \n",
    "    https://www.imdb.com/chart/top/?ref_=nv_mv_250\n",
    "        \n",
    "    https://www.imdb.com/chart/toptv/?ref_=nv_tvv_250 \n"
   ]
  },
  {
   "cell_type": "code",
   "execution_count": 70,
   "metadata": {},
   "outputs": [],
   "source": [
    "df_tv_250 = pd.read_csv('D:\\Data Scientist\\Accenture_Case\\Data\\Top250_IMDb_tvshows.csv',sep=';')"
   ]
  },
  {
   "cell_type": "code",
   "execution_count": 85,
   "metadata": {},
   "outputs": [],
   "source": [
    "# Padronizando a string:\n",
    "df_tv_250['title'] = df_tv_250['title'].apply(lambda x : x.strip().capitalize()) "
   ]
  },
  {
   "cell_type": "code",
   "execution_count": 71,
   "metadata": {},
   "outputs": [
    {
     "name": "stdout",
     "output_type": "stream",
     "text": [
      "<class 'pandas.core.frame.DataFrame'>\n",
      "RangeIndex: 250 entries, 0 to 249\n",
      "Data columns (total 3 columns):\n",
      " #   Column         Non-Null Count  Dtype  \n",
      "---  ------         --------------  -----  \n",
      " 0   title          250 non-null    object \n",
      " 1   title_details  250 non-null    object \n",
      " 2   \tIMDb Rating   250 non-null    float64\n",
      "dtypes: float64(1), object(2)\n",
      "memory usage: 6.0+ KB\n"
     ]
    }
   ],
   "source": [
    "df_tv_250.info()"
   ]
  },
  {
   "cell_type": "code",
   "execution_count": 72,
   "metadata": {},
   "outputs": [],
   "source": [
    "df_mov_250 = pd.read_csv('D:\\Data Scientist\\Accenture_Case\\Data\\Top250_IMDb_movies.csv',sep=';')"
   ]
  },
  {
   "cell_type": "code",
   "execution_count": 82,
   "metadata": {},
   "outputs": [],
   "source": [
    "# Padronizando a string:\n",
    "df_mov_250['title'] = df_mov_250['title'].apply(lambda x : x.strip().capitalize()) "
   ]
  },
  {
   "cell_type": "code",
   "execution_count": 73,
   "metadata": {},
   "outputs": [
    {
     "name": "stdout",
     "output_type": "stream",
     "text": [
      "<class 'pandas.core.frame.DataFrame'>\n",
      "RangeIndex: 250 entries, 0 to 249\n",
      "Data columns (total 3 columns):\n",
      " #   Column         Non-Null Count  Dtype  \n",
      "---  ------         --------------  -----  \n",
      " 0   title          250 non-null    object \n",
      " 1   title_details  250 non-null    object \n",
      " 2   \tIMDb Rating   250 non-null    float64\n",
      "dtypes: float64(1), object(2)\n",
      "memory usage: 6.0+ KB\n"
     ]
    }
   ],
   "source": [
    "df_mov_250.info()"
   ]
  },
  {
   "cell_type": "code",
   "execution_count": 80,
   "metadata": {},
   "outputs": [],
   "source": [
    "df = pd.read_csv('[SD] DESAFIO.csv')\n",
    "\n",
    "# Padronizando a string:\n",
    "\n",
    "df['title'] = df['title'].apply(lambda x : x.strip().capitalize()) "
   ]
  },
  {
   "cell_type": "code",
   "execution_count": 81,
   "metadata": {},
   "outputs": [
    {
     "data": {
      "text/plain": [
       "0                                            3%\n",
       "1                                          7:19\n",
       "2                                         23:59\n",
       "3                                             9\n",
       "4                                            21\n",
       "                         ...                   \n",
       "7782                                       Zozo\n",
       "7783                                     Zubaan\n",
       "7784                          Zulu man in japan\n",
       "7785                      Zumbo's just desserts\n",
       "7786    Zz top: that little ol' band from texas\n",
       "Name: title, Length: 7787, dtype: object"
      ]
     },
     "execution_count": 81,
     "metadata": {},
     "output_type": "execute_result"
    }
   ],
   "source": [
    "df.title"
   ]
  },
  {
   "cell_type": "code",
   "execution_count": 83,
   "metadata": {},
   "outputs": [],
   "source": [
    "df_bool_mov = df.title.isin(df_mov_250.title)"
   ]
  },
  {
   "cell_type": "markdown",
   "metadata": {},
   "source": [
    "### Número de filmes que a netflix contém que estão no top 250 IMDb."
   ]
  },
  {
   "cell_type": "code",
   "execution_count": 84,
   "metadata": {},
   "outputs": [
    {
     "data": {
      "text/plain": [
       "False    7734\n",
       "True       53\n",
       "Name: title, dtype: int64"
      ]
     },
     "execution_count": 84,
     "metadata": {},
     "output_type": "execute_result"
    }
   ],
   "source": [
    "df_bool_mov.value_counts()"
   ]
  },
  {
   "cell_type": "markdown",
   "metadata": {},
   "source": [
    "### Número de tv-shows que a netflix contém que estão no top 250 IMDb."
   ]
  },
  {
   "cell_type": "code",
   "execution_count": 87,
   "metadata": {},
   "outputs": [],
   "source": [
    "df_bool_tv = df.title.isin(df_tv_250.title)"
   ]
  },
  {
   "cell_type": "code",
   "execution_count": 88,
   "metadata": {},
   "outputs": [
    {
     "data": {
      "text/plain": [
       "False    7717\n",
       "True       70\n",
       "Name: title, dtype: int64"
      ]
     },
     "execution_count": 88,
     "metadata": {},
     "output_type": "execute_result"
    }
   ],
   "source": [
    "df_bool_tv.value_counts()"
   ]
  }
 ],
 "metadata": {
  "kernelspec": {
   "display_name": "Python 3",
   "language": "python",
   "name": "python3"
  },
  "language_info": {
   "codemirror_mode": {
    "name": "ipython",
    "version": 3
   },
   "file_extension": ".py",
   "mimetype": "text/x-python",
   "name": "python",
   "nbconvert_exporter": "python",
   "pygments_lexer": "ipython3",
   "version": "3.8.5"
  }
 },
 "nbformat": 4,
 "nbformat_minor": 4
}
